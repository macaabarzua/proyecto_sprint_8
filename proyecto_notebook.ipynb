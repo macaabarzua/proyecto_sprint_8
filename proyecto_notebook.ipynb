{
 "cells": [
  {
   "cell_type": "markdown",
   "metadata": {},
   "source": [
    "Hola **Macarena**!\n",
    "\n",
    "Soy **Patricio Requena** 👋. Es un placer ser el revisor de tu proyecto el día de hoy!\n",
    "\n",
    "Revisaré tu proyecto detenidamente con el objetivo de ayudarte a mejorar y perfeccionar tus habilidades. Durante mi revisión, identificaré áreas donde puedas hacer mejoras en tu código, señalando específicamente qué y cómo podrías ajustar para optimizar el rendimiento y la claridad de tu proyecto. Además, es importante para mí destacar los aspectos que has manejado excepcionalmente bien. Reconocer tus fortalezas te ayudará a entender qué técnicas y métodos están funcionando a tu favor y cómo puedes aplicarlos en futuras tareas. \n",
    "\n",
    "_**Recuerda que al final de este notebook encontrarás un comentario general de mi parte**_, empecemos!\n",
    "\n",
    "Encontrarás mis comentarios dentro de cajas verdes, amarillas o rojas, ⚠️ **por favor, no muevas, modifiques o borres mis comentarios** ⚠️:\n",
    "\n",
    "\n",
    "<div class=\"alert alert-block alert-success\">\n",
    "<b>Comentario del revisor</b> <a class=“tocSkip”></a>\n",
    "Si todo está perfecto.\n",
    "</div>\n",
    "\n",
    "<div class=\"alert alert-block alert-warning\">\n",
    "<b>Comentario del revisor</b> <a class=“tocSkip”></a>\n",
    "Si tu código está bien pero se puede mejorar o hay algún detalle que le hace falta.\n",
    "</div>\n",
    "\n",
    "<div class=\"alert alert-block alert-danger\">\n",
    "<b>Comentario del revisor</b> <a class=“tocSkip”></a>\n",
    "Si de pronto hace falta algo o existe algún problema con tu código o conclusiones.\n",
    "</div>\n",
    "\n",
    "Puedes responderme de esta forma:\n",
    "<div class=\"alert alert-block alert-info\">\n",
    "<b>Respuesta del estudiante</b> <a class=“tocSkip”></a>\n",
    "</div>"
   ]
  },
  {
   "cell_type": "markdown",
   "metadata": {},
   "source": [
    "# Proyecto 8"
   ]
  },
  {
   "cell_type": "markdown",
   "metadata": {},
   "source": [
    "### Introducción"
   ]
  },
  {
   "cell_type": "markdown",
   "metadata": {},
   "source": [
    "Contamos con datos de la empreza Zuber; compañía de viajes compartidos que se ha lanzado en Chicago. Se busca encontrar patrones en la información disponible respecto a preferencias de los pasajeros y el impacto que el clima puede tener en los viajes."
   ]
  },
  {
   "cell_type": "markdown",
   "metadata": {},
   "source": [
    "### Descripción de los datos"
   ]
  },
  {
   "cell_type": "markdown",
   "metadata": {},
   "source": [
    "- company: tabla con datos de viajes de cada compañía.  \n",
    " *company_name:* nombre de la empresa de viajes  \n",
    " *trips_amunt:* número de viajes de cada empresa el 15 y 16 de noviembre  \n",
    " \n",
    "- dropoff_location: tabla con barrios de Chicago en donde finalizan los viajes.  \n",
    " *dropoff_location_name:* barrios de Chicago donde finalizaron los viajes  \n",
    " *average_trips:* el promedio de duracion de cada viaje finalizado, el 17 de noviembre  \n",
    " \n",
    "- airport_trips: tabla con datos de viajes desde Loop hacia el Aeropuerto internacional O'Hare  \n",
    " *start_ts:* fecha y hora de recogida  \n",
    " *weather_conditions:* condiciones climáticas en el momento en el que comenzó el viaje  \n",
    " *duration_seconds:* duración del viaje en segundos "
   ]
  },
  {
   "cell_type": "markdown",
   "metadata": {},
   "source": [
    "<div class=\"alert alert-block alert-success\">\n",
    "<b>Comentario del revisor (1ra Iteracion)</b> <a class=“tocSkip”></a>\n",
    "\n",
    "Te felicito por incluir esta sección introductoria de tu proyecto, esto ayuda a entender el porqué y cómo lo realizarás antes de pasar a ver el código. Continúa esta práctica!\n",
    "</div>"
   ]
  },
  {
   "cell_type": "markdown",
   "metadata": {},
   "source": [
    "### Importar librerias"
   ]
  },
  {
   "cell_type": "code",
   "execution_count": 1,
   "metadata": {},
   "outputs": [],
   "source": [
    "import pandas as pd\n",
    "import matplotlib.pyplot as plt\n",
    "import seaborn as sns\n",
    "from scipy import stats as st"
   ]
  },
  {
   "cell_type": "markdown",
   "metadata": {},
   "source": [
    "### Cargar datos"
   ]
  },
  {
   "cell_type": "code",
   "execution_count": 2,
   "metadata": {},
   "outputs": [],
   "source": [
    "company_df = pd.read_csv('/datasets/project_sql_result_01.csv')\n",
    "dropoff_location_df = pd.read_csv('/datasets/project_sql_result_04.csv')\n",
    "airport_trips_df = pd.read_csv('/datasets/project_sql_result_07.csv')"
   ]
  },
  {
   "cell_type": "markdown",
   "metadata": {},
   "source": [
    "<div class=\"alert alert-block alert-success\">\n",
    "<b>Comentario del revisor (1ra Iteracion)</b> <a class=“tocSkip”></a>\n",
    "\n",
    "Excelente, cargaste todos tus datos e importaste las librerías de una manera muy ordenada\n",
    "</div>"
   ]
  },
  {
   "cell_type": "markdown",
   "metadata": {},
   "source": [
    "#### Preparar los datos"
   ]
  },
  {
   "cell_type": "code",
   "execution_count": 3,
   "metadata": {},
   "outputs": [
    {
     "name": "stdout",
     "output_type": "stream",
     "text": [
      "<class 'pandas.core.frame.DataFrame'>\n",
      "RangeIndex: 64 entries, 0 to 63\n",
      "Data columns (total 2 columns):\n",
      " #   Column        Non-Null Count  Dtype \n",
      "---  ------        --------------  ----- \n",
      " 0   company_name  64 non-null     object\n",
      " 1   trips_amount  64 non-null     int64 \n",
      "dtypes: int64(1), object(1)\n",
      "memory usage: 1.1+ KB\n"
     ]
    }
   ],
   "source": [
    "# Información de la tabla de viajes según empresa\n",
    "company_df.info()"
   ]
  },
  {
   "cell_type": "markdown",
   "metadata": {},
   "source": [
    "No hay valores ausentes en la tabla"
   ]
  },
  {
   "cell_type": "code",
   "execution_count": 4,
   "metadata": {},
   "outputs": [
    {
     "data": {
      "text/plain": [
       "0"
      ]
     },
     "execution_count": 4,
     "metadata": {},
     "output_type": "execute_result"
    }
   ],
   "source": [
    "# Buscar duplicados explícitos\n",
    "company_df.duplicated().sum()"
   ]
  },
  {
   "cell_type": "markdown",
   "metadata": {},
   "source": [
    "Tampoco hay duplicados explicitos"
   ]
  },
  {
   "cell_type": "code",
   "execution_count": 5,
   "metadata": {},
   "outputs": [
    {
     "data": {
      "text/html": [
       "<div>\n",
       "<style scoped>\n",
       "    .dataframe tbody tr th:only-of-type {\n",
       "        vertical-align: middle;\n",
       "    }\n",
       "\n",
       "    .dataframe tbody tr th {\n",
       "        vertical-align: top;\n",
       "    }\n",
       "\n",
       "    .dataframe thead th {\n",
       "        text-align: right;\n",
       "    }\n",
       "</style>\n",
       "<table border=\"1\" class=\"dataframe\">\n",
       "  <thead>\n",
       "    <tr style=\"text-align: right;\">\n",
       "      <th></th>\n",
       "      <th>company_name</th>\n",
       "      <th>trips_amount</th>\n",
       "    </tr>\n",
       "  </thead>\n",
       "  <tbody>\n",
       "    <tr>\n",
       "      <th>0</th>\n",
       "      <td>Flash Cab</td>\n",
       "      <td>19558</td>\n",
       "    </tr>\n",
       "    <tr>\n",
       "      <th>1</th>\n",
       "      <td>Taxi Affiliation Services</td>\n",
       "      <td>11422</td>\n",
       "    </tr>\n",
       "    <tr>\n",
       "      <th>2</th>\n",
       "      <td>Medallion Leasing</td>\n",
       "      <td>10367</td>\n",
       "    </tr>\n",
       "    <tr>\n",
       "      <th>3</th>\n",
       "      <td>Yellow Cab</td>\n",
       "      <td>9888</td>\n",
       "    </tr>\n",
       "    <tr>\n",
       "      <th>4</th>\n",
       "      <td>Taxi Affiliation Service Yellow</td>\n",
       "      <td>9299</td>\n",
       "    </tr>\n",
       "  </tbody>\n",
       "</table>\n",
       "</div>"
      ],
      "text/plain": [
       "                      company_name  trips_amount\n",
       "0                        Flash Cab         19558\n",
       "1        Taxi Affiliation Services         11422\n",
       "2                Medallion Leasing         10367\n",
       "3                       Yellow Cab          9888\n",
       "4  Taxi Affiliation Service Yellow          9299"
      ]
     },
     "execution_count": 5,
     "metadata": {},
     "output_type": "execute_result"
    }
   ],
   "source": [
    "company_df.head()"
   ]
  },
  {
   "cell_type": "code",
   "execution_count": 6,
   "metadata": {},
   "outputs": [
    {
     "data": {
      "text/html": [
       "<div>\n",
       "<style scoped>\n",
       "    .dataframe tbody tr th:only-of-type {\n",
       "        vertical-align: middle;\n",
       "    }\n",
       "\n",
       "    .dataframe tbody tr th {\n",
       "        vertical-align: top;\n",
       "    }\n",
       "\n",
       "    .dataframe thead th {\n",
       "        text-align: right;\n",
       "    }\n",
       "</style>\n",
       "<table border=\"1\" class=\"dataframe\">\n",
       "  <thead>\n",
       "    <tr style=\"text-align: right;\">\n",
       "      <th></th>\n",
       "      <th>trips_amount</th>\n",
       "    </tr>\n",
       "  </thead>\n",
       "  <tbody>\n",
       "    <tr>\n",
       "      <th>count</th>\n",
       "      <td>64.000000</td>\n",
       "    </tr>\n",
       "    <tr>\n",
       "      <th>mean</th>\n",
       "      <td>2145.484375</td>\n",
       "    </tr>\n",
       "    <tr>\n",
       "      <th>std</th>\n",
       "      <td>3812.310186</td>\n",
       "    </tr>\n",
       "    <tr>\n",
       "      <th>min</th>\n",
       "      <td>2.000000</td>\n",
       "    </tr>\n",
       "    <tr>\n",
       "      <th>25%</th>\n",
       "      <td>20.750000</td>\n",
       "    </tr>\n",
       "    <tr>\n",
       "      <th>50%</th>\n",
       "      <td>178.500000</td>\n",
       "    </tr>\n",
       "    <tr>\n",
       "      <th>75%</th>\n",
       "      <td>2106.500000</td>\n",
       "    </tr>\n",
       "    <tr>\n",
       "      <th>max</th>\n",
       "      <td>19558.000000</td>\n",
       "    </tr>\n",
       "  </tbody>\n",
       "</table>\n",
       "</div>"
      ],
      "text/plain": [
       "       trips_amount\n",
       "count     64.000000\n",
       "mean    2145.484375\n",
       "std     3812.310186\n",
       "min        2.000000\n",
       "25%       20.750000\n",
       "50%      178.500000\n",
       "75%     2106.500000\n",
       "max    19558.000000"
      ]
     },
     "execution_count": 6,
     "metadata": {},
     "output_type": "execute_result"
    }
   ],
   "source": [
    "# Valores estadísticos de la cantidad de viajes\n",
    "company_df.describe()"
   ]
  },
  {
   "cell_type": "code",
   "execution_count": 7,
   "metadata": {},
   "outputs": [
    {
     "name": "stdout",
     "output_type": "stream",
     "text": [
      "<class 'pandas.core.frame.DataFrame'>\n",
      "RangeIndex: 94 entries, 0 to 93\n",
      "Data columns (total 2 columns):\n",
      " #   Column                 Non-Null Count  Dtype  \n",
      "---  ------                 --------------  -----  \n",
      " 0   dropoff_location_name  94 non-null     object \n",
      " 1   average_trips          94 non-null     float64\n",
      "dtypes: float64(1), object(1)\n",
      "memory usage: 1.6+ KB\n"
     ]
    }
   ],
   "source": [
    "# Información de la tabla con viajes según barrio de finalización\n",
    "dropoff_location_df.info()"
   ]
  },
  {
   "cell_type": "markdown",
   "metadata": {},
   "source": [
    "No hay valores ausentes"
   ]
  },
  {
   "cell_type": "code",
   "execution_count": 8,
   "metadata": {},
   "outputs": [
    {
     "data": {
      "text/plain": [
       "0"
      ]
     },
     "execution_count": 8,
     "metadata": {},
     "output_type": "execute_result"
    }
   ],
   "source": [
    "# Hallar duplicados explícitos\n",
    "dropoff_location_df.duplicated().sum()"
   ]
  },
  {
   "cell_type": "markdown",
   "metadata": {},
   "source": [
    "No hay duplicados explícitos"
   ]
  },
  {
   "cell_type": "code",
   "execution_count": 9,
   "metadata": {},
   "outputs": [
    {
     "data": {
      "text/html": [
       "<div>\n",
       "<style scoped>\n",
       "    .dataframe tbody tr th:only-of-type {\n",
       "        vertical-align: middle;\n",
       "    }\n",
       "\n",
       "    .dataframe tbody tr th {\n",
       "        vertical-align: top;\n",
       "    }\n",
       "\n",
       "    .dataframe thead th {\n",
       "        text-align: right;\n",
       "    }\n",
       "</style>\n",
       "<table border=\"1\" class=\"dataframe\">\n",
       "  <thead>\n",
       "    <tr style=\"text-align: right;\">\n",
       "      <th></th>\n",
       "      <th>dropoff_location_name</th>\n",
       "      <th>average_trips</th>\n",
       "    </tr>\n",
       "  </thead>\n",
       "  <tbody>\n",
       "    <tr>\n",
       "      <th>0</th>\n",
       "      <td>Loop</td>\n",
       "      <td>10727.466667</td>\n",
       "    </tr>\n",
       "    <tr>\n",
       "      <th>1</th>\n",
       "      <td>River North</td>\n",
       "      <td>9523.666667</td>\n",
       "    </tr>\n",
       "    <tr>\n",
       "      <th>2</th>\n",
       "      <td>Streeterville</td>\n",
       "      <td>6664.666667</td>\n",
       "    </tr>\n",
       "    <tr>\n",
       "      <th>3</th>\n",
       "      <td>West Loop</td>\n",
       "      <td>5163.666667</td>\n",
       "    </tr>\n",
       "    <tr>\n",
       "      <th>4</th>\n",
       "      <td>O'Hare</td>\n",
       "      <td>2546.900000</td>\n",
       "    </tr>\n",
       "  </tbody>\n",
       "</table>\n",
       "</div>"
      ],
      "text/plain": [
       "  dropoff_location_name  average_trips\n",
       "0                  Loop   10727.466667\n",
       "1           River North    9523.666667\n",
       "2         Streeterville    6664.666667\n",
       "3             West Loop    5163.666667\n",
       "4                O'Hare    2546.900000"
      ]
     },
     "execution_count": 9,
     "metadata": {},
     "output_type": "execute_result"
    }
   ],
   "source": [
    "dropoff_location_df.head()"
   ]
  },
  {
   "cell_type": "code",
   "execution_count": 10,
   "metadata": {},
   "outputs": [
    {
     "data": {
      "text/html": [
       "<div>\n",
       "<style scoped>\n",
       "    .dataframe tbody tr th:only-of-type {\n",
       "        vertical-align: middle;\n",
       "    }\n",
       "\n",
       "    .dataframe tbody tr th {\n",
       "        vertical-align: top;\n",
       "    }\n",
       "\n",
       "    .dataframe thead th {\n",
       "        text-align: right;\n",
       "    }\n",
       "</style>\n",
       "<table border=\"1\" class=\"dataframe\">\n",
       "  <thead>\n",
       "    <tr style=\"text-align: right;\">\n",
       "      <th></th>\n",
       "      <th>average_trips</th>\n",
       "    </tr>\n",
       "  </thead>\n",
       "  <tbody>\n",
       "    <tr>\n",
       "      <th>count</th>\n",
       "      <td>94.000000</td>\n",
       "    </tr>\n",
       "    <tr>\n",
       "      <th>mean</th>\n",
       "      <td>599.953728</td>\n",
       "    </tr>\n",
       "    <tr>\n",
       "      <th>std</th>\n",
       "      <td>1714.591098</td>\n",
       "    </tr>\n",
       "    <tr>\n",
       "      <th>min</th>\n",
       "      <td>1.800000</td>\n",
       "    </tr>\n",
       "    <tr>\n",
       "      <th>25%</th>\n",
       "      <td>14.266667</td>\n",
       "    </tr>\n",
       "    <tr>\n",
       "      <th>50%</th>\n",
       "      <td>52.016667</td>\n",
       "    </tr>\n",
       "    <tr>\n",
       "      <th>75%</th>\n",
       "      <td>298.858333</td>\n",
       "    </tr>\n",
       "    <tr>\n",
       "      <th>max</th>\n",
       "      <td>10727.466667</td>\n",
       "    </tr>\n",
       "  </tbody>\n",
       "</table>\n",
       "</div>"
      ],
      "text/plain": [
       "       average_trips\n",
       "count      94.000000\n",
       "mean      599.953728\n",
       "std      1714.591098\n",
       "min         1.800000\n",
       "25%        14.266667\n",
       "50%        52.016667\n",
       "75%       298.858333\n",
       "max     10727.466667"
      ]
     },
     "execution_count": 10,
     "metadata": {},
     "output_type": "execute_result"
    }
   ],
   "source": [
    "# Valores estadísticos de la duración promedio de viajes\n",
    "dropoff_location_df.describe()"
   ]
  },
  {
   "cell_type": "code",
   "execution_count": 11,
   "metadata": {},
   "outputs": [
    {
     "name": "stdout",
     "output_type": "stream",
     "text": [
      "<class 'pandas.core.frame.DataFrame'>\n",
      "RangeIndex: 1068 entries, 0 to 1067\n",
      "Data columns (total 3 columns):\n",
      " #   Column              Non-Null Count  Dtype  \n",
      "---  ------              --------------  -----  \n",
      " 0   start_ts            1068 non-null   object \n",
      " 1   weather_conditions  1068 non-null   object \n",
      " 2   duration_seconds    1068 non-null   float64\n",
      "dtypes: float64(1), object(2)\n",
      "memory usage: 25.2+ KB\n"
     ]
    }
   ],
   "source": [
    "# Información de la tabla de viajes hacia el aeropuerto\n",
    "airport_trips_df.info()"
   ]
  },
  {
   "cell_type": "markdown",
   "metadata": {},
   "source": [
    "No hay valores ausentes en la tabla"
   ]
  },
  {
   "cell_type": "code",
   "execution_count": 12,
   "metadata": {},
   "outputs": [
    {
     "data": {
      "text/plain": [
       "197"
      ]
     },
     "execution_count": 12,
     "metadata": {},
     "output_type": "execute_result"
    }
   ],
   "source": [
    "# Buscar duplicados explícitos\n",
    "airport_trips_df.duplicated().sum()"
   ]
  },
  {
   "cell_type": "code",
   "execution_count": 13,
   "metadata": {},
   "outputs": [
    {
     "data": {
      "text/html": [
       "<div>\n",
       "<style scoped>\n",
       "    .dataframe tbody tr th:only-of-type {\n",
       "        vertical-align: middle;\n",
       "    }\n",
       "\n",
       "    .dataframe tbody tr th {\n",
       "        vertical-align: top;\n",
       "    }\n",
       "\n",
       "    .dataframe thead th {\n",
       "        text-align: right;\n",
       "    }\n",
       "</style>\n",
       "<table border=\"1\" class=\"dataframe\">\n",
       "  <thead>\n",
       "    <tr style=\"text-align: right;\">\n",
       "      <th></th>\n",
       "      <th>start_ts</th>\n",
       "      <th>weather_conditions</th>\n",
       "      <th>duration_seconds</th>\n",
       "    </tr>\n",
       "  </thead>\n",
       "  <tbody>\n",
       "    <tr>\n",
       "      <th>62</th>\n",
       "      <td>2017-11-11 06:00:00</td>\n",
       "      <td>Good</td>\n",
       "      <td>1260.0</td>\n",
       "    </tr>\n",
       "    <tr>\n",
       "      <th>74</th>\n",
       "      <td>2017-11-11 08:00:00</td>\n",
       "      <td>Good</td>\n",
       "      <td>1380.0</td>\n",
       "    </tr>\n",
       "    <tr>\n",
       "      <th>76</th>\n",
       "      <td>2017-11-04 09:00:00</td>\n",
       "      <td>Good</td>\n",
       "      <td>1380.0</td>\n",
       "    </tr>\n",
       "    <tr>\n",
       "      <th>117</th>\n",
       "      <td>2017-11-11 07:00:00</td>\n",
       "      <td>Good</td>\n",
       "      <td>1380.0</td>\n",
       "    </tr>\n",
       "    <tr>\n",
       "      <th>119</th>\n",
       "      <td>2017-11-04 14:00:00</td>\n",
       "      <td>Good</td>\n",
       "      <td>3300.0</td>\n",
       "    </tr>\n",
       "    <tr>\n",
       "      <th>...</th>\n",
       "      <td>...</td>\n",
       "      <td>...</td>\n",
       "      <td>...</td>\n",
       "    </tr>\n",
       "    <tr>\n",
       "      <th>1054</th>\n",
       "      <td>2017-11-11 07:00:00</td>\n",
       "      <td>Good</td>\n",
       "      <td>1380.0</td>\n",
       "    </tr>\n",
       "    <tr>\n",
       "      <th>1058</th>\n",
       "      <td>2017-11-25 12:00:00</td>\n",
       "      <td>Good</td>\n",
       "      <td>1440.0</td>\n",
       "    </tr>\n",
       "    <tr>\n",
       "      <th>1062</th>\n",
       "      <td>2017-11-11 06:00:00</td>\n",
       "      <td>Good</td>\n",
       "      <td>1500.0</td>\n",
       "    </tr>\n",
       "    <tr>\n",
       "      <th>1065</th>\n",
       "      <td>2017-11-11 13:00:00</td>\n",
       "      <td>Good</td>\n",
       "      <td>2100.0</td>\n",
       "    </tr>\n",
       "    <tr>\n",
       "      <th>1066</th>\n",
       "      <td>2017-11-11 08:00:00</td>\n",
       "      <td>Good</td>\n",
       "      <td>1380.0</td>\n",
       "    </tr>\n",
       "  </tbody>\n",
       "</table>\n",
       "<p>197 rows × 3 columns</p>\n",
       "</div>"
      ],
      "text/plain": [
       "                 start_ts weather_conditions  duration_seconds\n",
       "62    2017-11-11 06:00:00               Good            1260.0\n",
       "74    2017-11-11 08:00:00               Good            1380.0\n",
       "76    2017-11-04 09:00:00               Good            1380.0\n",
       "117   2017-11-11 07:00:00               Good            1380.0\n",
       "119   2017-11-04 14:00:00               Good            3300.0\n",
       "...                   ...                ...               ...\n",
       "1054  2017-11-11 07:00:00               Good            1380.0\n",
       "1058  2017-11-25 12:00:00               Good            1440.0\n",
       "1062  2017-11-11 06:00:00               Good            1500.0\n",
       "1065  2017-11-11 13:00:00               Good            2100.0\n",
       "1066  2017-11-11 08:00:00               Good            1380.0\n",
       "\n",
       "[197 rows x 3 columns]"
      ]
     },
     "execution_count": 13,
     "metadata": {},
     "output_type": "execute_result"
    }
   ],
   "source": [
    "airport_trips_df[airport_trips_df.duplicated()]"
   ]
  },
  {
   "cell_type": "markdown",
   "metadata": {},
   "source": [
    "Los duplicados existentes son debido a que se repite la fecha, sin embargo la hora de inicio del viaje como la duración del mismo es diferente"
   ]
  },
  {
   "cell_type": "code",
   "execution_count": 14,
   "metadata": {},
   "outputs": [
    {
     "data": {
      "text/html": [
       "<div>\n",
       "<style scoped>\n",
       "    .dataframe tbody tr th:only-of-type {\n",
       "        vertical-align: middle;\n",
       "    }\n",
       "\n",
       "    .dataframe tbody tr th {\n",
       "        vertical-align: top;\n",
       "    }\n",
       "\n",
       "    .dataframe thead th {\n",
       "        text-align: right;\n",
       "    }\n",
       "</style>\n",
       "<table border=\"1\" class=\"dataframe\">\n",
       "  <thead>\n",
       "    <tr style=\"text-align: right;\">\n",
       "      <th></th>\n",
       "      <th>duration_seconds</th>\n",
       "    </tr>\n",
       "  </thead>\n",
       "  <tbody>\n",
       "    <tr>\n",
       "      <th>count</th>\n",
       "      <td>1068.000000</td>\n",
       "    </tr>\n",
       "    <tr>\n",
       "      <th>mean</th>\n",
       "      <td>2071.731273</td>\n",
       "    </tr>\n",
       "    <tr>\n",
       "      <th>std</th>\n",
       "      <td>769.461125</td>\n",
       "    </tr>\n",
       "    <tr>\n",
       "      <th>min</th>\n",
       "      <td>0.000000</td>\n",
       "    </tr>\n",
       "    <tr>\n",
       "      <th>25%</th>\n",
       "      <td>1438.250000</td>\n",
       "    </tr>\n",
       "    <tr>\n",
       "      <th>50%</th>\n",
       "      <td>1980.000000</td>\n",
       "    </tr>\n",
       "    <tr>\n",
       "      <th>75%</th>\n",
       "      <td>2580.000000</td>\n",
       "    </tr>\n",
       "    <tr>\n",
       "      <th>max</th>\n",
       "      <td>7440.000000</td>\n",
       "    </tr>\n",
       "  </tbody>\n",
       "</table>\n",
       "</div>"
      ],
      "text/plain": [
       "       duration_seconds\n",
       "count       1068.000000\n",
       "mean        2071.731273\n",
       "std          769.461125\n",
       "min            0.000000\n",
       "25%         1438.250000\n",
       "50%         1980.000000\n",
       "75%         2580.000000\n",
       "max         7440.000000"
      ]
     },
     "execution_count": 14,
     "metadata": {},
     "output_type": "execute_result"
    }
   ],
   "source": [
    "# Valores estadísticos de la duración de viajes hacia el aeropuerto\n",
    "airport_trips_df.describe()"
   ]
  },
  {
   "cell_type": "markdown",
   "metadata": {},
   "source": [
    "<div class=\"alert alert-block alert-success\">\n",
    "<b>Comentario del revisor (1ra Iteracion)</b> <a class=“tocSkip”></a>\n",
    "\n",
    "Muy bien realizada esta exploración inicial para comprender los datos con los que vas a trabajar, es un paso muy importante\n",
    "</div>"
   ]
  },
  {
   "cell_type": "markdown",
   "metadata": {},
   "source": [
    "### Análisis de los datos"
   ]
  },
  {
   "cell_type": "markdown",
   "metadata": {},
   "source": [
    "#### Principales barrios de destino en Chicago"
   ]
  },
  {
   "cell_type": "code",
   "execution_count": 15,
   "metadata": {},
   "outputs": [
    {
     "data": {
      "text/html": [
       "<div>\n",
       "<style scoped>\n",
       "    .dataframe tbody tr th:only-of-type {\n",
       "        vertical-align: middle;\n",
       "    }\n",
       "\n",
       "    .dataframe tbody tr th {\n",
       "        vertical-align: top;\n",
       "    }\n",
       "\n",
       "    .dataframe thead th {\n",
       "        text-align: right;\n",
       "    }\n",
       "</style>\n",
       "<table border=\"1\" class=\"dataframe\">\n",
       "  <thead>\n",
       "    <tr style=\"text-align: right;\">\n",
       "      <th></th>\n",
       "      <th>dropoff_location_name</th>\n",
       "      <th>average_trips</th>\n",
       "    </tr>\n",
       "  </thead>\n",
       "  <tbody>\n",
       "    <tr>\n",
       "      <th>0</th>\n",
       "      <td>Loop</td>\n",
       "      <td>10727.466667</td>\n",
       "    </tr>\n",
       "    <tr>\n",
       "      <th>1</th>\n",
       "      <td>River North</td>\n",
       "      <td>9523.666667</td>\n",
       "    </tr>\n",
       "    <tr>\n",
       "      <th>2</th>\n",
       "      <td>Streeterville</td>\n",
       "      <td>6664.666667</td>\n",
       "    </tr>\n",
       "    <tr>\n",
       "      <th>3</th>\n",
       "      <td>West Loop</td>\n",
       "      <td>5163.666667</td>\n",
       "    </tr>\n",
       "    <tr>\n",
       "      <th>4</th>\n",
       "      <td>O'Hare</td>\n",
       "      <td>2546.900000</td>\n",
       "    </tr>\n",
       "    <tr>\n",
       "      <th>5</th>\n",
       "      <td>Lake View</td>\n",
       "      <td>2420.966667</td>\n",
       "    </tr>\n",
       "    <tr>\n",
       "      <th>6</th>\n",
       "      <td>Grant Park</td>\n",
       "      <td>2068.533333</td>\n",
       "    </tr>\n",
       "    <tr>\n",
       "      <th>7</th>\n",
       "      <td>Museum Campus</td>\n",
       "      <td>1510.000000</td>\n",
       "    </tr>\n",
       "    <tr>\n",
       "      <th>8</th>\n",
       "      <td>Gold Coast</td>\n",
       "      <td>1364.233333</td>\n",
       "    </tr>\n",
       "    <tr>\n",
       "      <th>9</th>\n",
       "      <td>Sheffield &amp; DePaul</td>\n",
       "      <td>1259.766667</td>\n",
       "    </tr>\n",
       "  </tbody>\n",
       "</table>\n",
       "</div>"
      ],
      "text/plain": [
       "  dropoff_location_name  average_trips\n",
       "0                  Loop   10727.466667\n",
       "1           River North    9523.666667\n",
       "2         Streeterville    6664.666667\n",
       "3             West Loop    5163.666667\n",
       "4                O'Hare    2546.900000\n",
       "5             Lake View    2420.966667\n",
       "6            Grant Park    2068.533333\n",
       "7         Museum Campus    1510.000000\n",
       "8            Gold Coast    1364.233333\n",
       "9    Sheffield & DePaul    1259.766667"
      ]
     },
     "execution_count": 15,
     "metadata": {},
     "output_type": "execute_result"
    }
   ],
   "source": [
    "# Identificar los 10 principales barrios en términos de finalización del recorrido\n",
    "top10_location = dropoff_location_df.sort_values(by='average_trips', ascending=False).head(10)\n",
    "top10_location"
   ]
  },
  {
   "cell_type": "code",
   "execution_count": 16,
   "metadata": {},
   "outputs": [
    {
     "data": {
      "image/png": "[encoded data removed]",
      "text/plain": [
       "<Figure size 640x480 with 1 Axes>"
      ]
     },
     "metadata": {},
     "output_type": "display_data"
    }
   ],
   "source": [
    "# Gráfica que nos muestra los 10 principales barrios de destino\n",
    "top10_location.plot(\n",
    "    kind='bar',\n",
    "    color= 'green',\n",
    "    x= 'dropoff_location_name',\n",
    "    y= 'average_trips',\n",
    "    xlabel= 'Barrios de Chicago',\n",
    "    ylabel= 'Promedio de viajes',\n",
    "    title= '10 principales barrios de Chicago en los que finalizan los viajes'\n",
    ")\n",
    "plt.show()"
   ]
  },
  {
   "cell_type": "markdown",
   "metadata": {},
   "source": [
    "Loop es el barrio de mayor destino en Chicago, seguido de River North; ambos barrios connotados por sus restaurantes -según información turística-; probablemente sean los barrios de mayor atractivo de Chicago o los más centricos"
   ]
  },
  {
   "cell_type": "markdown",
   "metadata": {},
   "source": [
    "<div class=\"alert alert-block alert-success\">\n",
    "<b>Comentario del revisor (1ra Iteracion)</b> <a class=“tocSkip”></a>\n",
    "\n",
    "Excelente, se muestra una gráfica clara de los top 10 principales destinos. \n",
    "</div>"
   ]
  },
  {
   "cell_type": "markdown",
   "metadata": {},
   "source": [
    "#### Principales empresas de viaje"
   ]
  },
  {
   "cell_type": "code",
   "execution_count": 17,
   "metadata": {},
   "outputs": [
    {
     "data": {
      "text/html": [
       "<div>\n",
       "<style scoped>\n",
       "    .dataframe tbody tr th:only-of-type {\n",
       "        vertical-align: middle;\n",
       "    }\n",
       "\n",
       "    .dataframe tbody tr th {\n",
       "        vertical-align: top;\n",
       "    }\n",
       "\n",
       "    .dataframe thead th {\n",
       "        text-align: right;\n",
       "    }\n",
       "</style>\n",
       "<table border=\"1\" class=\"dataframe\">\n",
       "  <thead>\n",
       "    <tr style=\"text-align: right;\">\n",
       "      <th></th>\n",
       "      <th>company_name</th>\n",
       "      <th>trips_amount</th>\n",
       "    </tr>\n",
       "  </thead>\n",
       "  <tbody>\n",
       "    <tr>\n",
       "      <th>0</th>\n",
       "      <td>Flash Cab</td>\n",
       "      <td>19558</td>\n",
       "    </tr>\n",
       "    <tr>\n",
       "      <th>1</th>\n",
       "      <td>Taxi Affiliation Services</td>\n",
       "      <td>11422</td>\n",
       "    </tr>\n",
       "    <tr>\n",
       "      <th>2</th>\n",
       "      <td>Medallion Leasing</td>\n",
       "      <td>10367</td>\n",
       "    </tr>\n",
       "    <tr>\n",
       "      <th>3</th>\n",
       "      <td>Yellow Cab</td>\n",
       "      <td>9888</td>\n",
       "    </tr>\n",
       "    <tr>\n",
       "      <th>4</th>\n",
       "      <td>Taxi Affiliation Service Yellow</td>\n",
       "      <td>9299</td>\n",
       "    </tr>\n",
       "    <tr>\n",
       "      <th>5</th>\n",
       "      <td>Chicago Carriage Cab Corp</td>\n",
       "      <td>9181</td>\n",
       "    </tr>\n",
       "    <tr>\n",
       "      <th>6</th>\n",
       "      <td>City Service</td>\n",
       "      <td>8448</td>\n",
       "    </tr>\n",
       "    <tr>\n",
       "      <th>7</th>\n",
       "      <td>Sun Taxi</td>\n",
       "      <td>7701</td>\n",
       "    </tr>\n",
       "    <tr>\n",
       "      <th>8</th>\n",
       "      <td>Star North Management LLC</td>\n",
       "      <td>7455</td>\n",
       "    </tr>\n",
       "    <tr>\n",
       "      <th>9</th>\n",
       "      <td>Blue Ribbon Taxi Association Inc.</td>\n",
       "      <td>5953</td>\n",
       "    </tr>\n",
       "  </tbody>\n",
       "</table>\n",
       "</div>"
      ],
      "text/plain": [
       "                        company_name  trips_amount\n",
       "0                          Flash Cab         19558\n",
       "1          Taxi Affiliation Services         11422\n",
       "2                  Medallion Leasing         10367\n",
       "3                         Yellow Cab          9888\n",
       "4    Taxi Affiliation Service Yellow          9299\n",
       "5          Chicago Carriage Cab Corp          9181\n",
       "6                       City Service          8448\n",
       "7                           Sun Taxi          7701\n",
       "8          Star North Management LLC          7455\n",
       "9  Blue Ribbon Taxi Association Inc.          5953"
      ]
     },
     "execution_count": 17,
     "metadata": {},
     "output_type": "execute_result"
    }
   ],
   "source": [
    "# Hallar las empresas más solicitadas\n",
    "top_company = company_df.sort_values(by='trips_amount', ascending=False).head(10)\n",
    "top_company"
   ]
  },
  {
   "cell_type": "code",
   "execution_count": 18,
   "metadata": {},
   "outputs": [
    {
     "data": {
      "image/png": "[encoded data removed]",
      "text/plain": [
       "<Figure size 640x480 with 1 Axes>"
      ]
     },
     "metadata": {},
     "output_type": "display_data"
    }
   ],
   "source": [
    "# Graficar cantidad de viajes según empresa\n",
    "top_company.plot(\n",
    "    kind='bar',\n",
    "    x= 'company_name',\n",
    "    y= 'trips_amount',\n",
    "    xlabel= 'Empresa de Taxi',\n",
    "    ylabel= 'Cantidad de viajes',\n",
    "    title= 'Número de viajes según empresa'\n",
    ")\n",
    "plt.show()"
   ]
  },
  {
   "cell_type": "markdown",
   "metadata": {},
   "source": [
    "Se visualiza una diferencia considerable entre la empresa \"Flash Cab\" y las otras; pues lidera notablemente mientras las demás se podrían agrupar sin una diferencia tan grande. Flash Cab sobrepasa en más de 17mil viajes al promedio de todas las empresas."
   ]
  },
  {
   "cell_type": "markdown",
   "metadata": {},
   "source": [
    "<div class=\"alert alert-block alert-success\">\n",
    "<b>Comentario del revisor (1ra Iteracion)</b> <a class=“tocSkip”></a>\n",
    "\n",
    "Muy bien! Es una gráfica clara y una conclusión bastante acertada respecto a lo mostrado\n",
    "</div>"
   ]
  },
  {
   "cell_type": "markdown",
   "metadata": {},
   "source": [
    "#### Duraciones de los viajes hacia el aeropuerto"
   ]
  },
  {
   "cell_type": "markdown",
   "metadata": {},
   "source": [
    "<div class=\"alert alert-block alert-danger\">\n",
    "<b>Comentario del revisor (1ra Iteracion)</b> <a class=“tocSkip”></a>\n",
    "\n",
    "A partir de aquí no puedo continuar con la revisión debido a que se está utilizando una variable que no se ha definido antes. Estos errores suelen suceder porque cuando trabajamos en nuestro equipo y al hacer cambios se suelen borrar celdas pero la variable continúa en memoria por lo que es fácil que ocurran estos errores al compartir el notebook. Para evitarlo siempre recomiendo que antes de compartir un notebook se reinicie el kernel y se ejecute todas las celdas desde arriba hacia abajo para revisar que no falla la ejecución.\n",
    "</div>"
   ]
  },
  {
   "cell_type": "markdown",
   "metadata": {},
   "source": [
    "<div class=\"alert alert-block alert-info\">\n",
    "<b>Respuesta del estudiante</b> <a class=“tocSkip”></a>\n",
    "Qué gran detalle se me pasó! gracias por el feedback; ya arreglé la variable pertinente.\n",
    "\n",
    "</div>"
   ]
  },
  {
   "cell_type": "markdown",
   "metadata": {},
   "source": [
    "<div class=\"alert alert-block alert-success\">\n",
    "<b>Comentario del revisor (2da Iteracion)</b> <a class=“tocSkip”></a>\n",
    "\n",
    "Son cosas que suelen pasar, por eso mejor probar todo y darle unos cuantos clicks al ícono de guardar para asegurarnos que todo vaya bien!\n",
    "</div>"
   ]
  },
  {
   "cell_type": "code",
   "execution_count": 19,
   "metadata": {},
   "outputs": [
    {
     "data": {
      "image/png": "[encoded data removed]",
      "text/plain": [
       "<Figure size 640x480 with 1 Axes>"
      ]
     },
     "metadata": {},
     "output_type": "display_data"
    }
   ],
   "source": [
    "# Duración de los viajes hacia el aeropuerto\n",
    "sns.boxplot(data= airport_trips_df, x='duration_seconds').set_title('Duración (s) de viajes hasta el aeropuerto')\n",
    "plt.xlabel('Duración (s)')\n",
    "plt.show()"
   ]
  },
  {
   "cell_type": "code",
   "execution_count": 20,
   "metadata": {},
   "outputs": [
    {
     "data": {
      "image/png": "[encoded data removed]",
      "text/plain": [
       "<Figure size 640x480 with 1 Axes>"
      ]
     },
     "metadata": {},
     "output_type": "display_data"
    }
   ],
   "source": [
    "# Hallar duraciones de los viajes según condición climática\n",
    "sns.boxplot(data= airport_trips_df, x='duration_seconds', y='weather_conditions').set_title('Duración del viaje (s) según condición climática')\n",
    "plt.xlabel('Duración (segundos)')\n",
    "plt.ylabel('Condición climática')\n",
    "plt.show()"
   ]
  },
  {
   "cell_type": "markdown",
   "metadata": {},
   "source": [
    "Tenemos valores atípicos en la duración de viajes hacia el aeropuerto, tanto si los visualizamos de manera general, como según condición climática, de modo que estos outliers serán eliminados para no interferir en la hipótesis que se busca resolver"
   ]
  },
  {
   "cell_type": "code",
   "execution_count": 21,
   "metadata": {},
   "outputs": [],
   "source": [
    "# Eliminar outliers:\n",
    "# Hallar Q1, Q3, IQR\n",
    "Q1 = airport_trips_df['duration_seconds'].quantile(0.25)\n",
    "Q3 = airport_trips_df['duration_seconds'].quantile(0.75)\n",
    "IQR = Q3 - Q1\n",
    "\n",
    "# Duración de viajes sin outliers\n",
    "outliers = airport_trips_df[((airport_trips_df['duration_seconds'] < (Q1 - 1.5*IQR)) | (airport_trips_df['duration_seconds'] > (Q3 + 1.5*IQR)))]\n",
    "trips_without_outliers = airport_trips_df[~((airport_trips_df['duration_seconds'] < (Q1 - 1.5*IQR)) | (airport_trips_df['duration_seconds'] > (Q3 + 1.5*IQR)))]"
   ]
  },
  {
   "cell_type": "code",
   "execution_count": 22,
   "metadata": {},
   "outputs": [
    {
     "data": {
      "image/png": "[encoded data removed]",
      "text/plain": [
       "<Figure size 640x480 with 1 Axes>"
      ]
     },
     "metadata": {},
     "output_type": "display_data"
    }
   ],
   "source": [
    "# Duración de viajes hacia el aeropuerto; sin valores atípicos\n",
    "sns.boxplot(data=trips_without_outliers, x='duration_seconds').set_title('Duración (s) de viajes')\n",
    "plt.show()"
   ]
  },
  {
   "cell_type": "code",
   "execution_count": 23,
   "metadata": {},
   "outputs": [
    {
     "data": {
      "image/png": "[encoded data removed]",
      "text/plain": [
       "<Figure size 640x480 with 1 Axes>"
      ]
     },
     "metadata": {},
     "output_type": "display_data"
    }
   ],
   "source": [
    "# Duraciones de los viajes según condición climática, sin valores atípicos\n",
    "sns.boxplot(data=trips_without_outliers, x= 'duration_seconds', y= 'weather_conditions').set_title('Tiempo (s) de viaje según condición climática')\n",
    "plt.xlabel('Duración (s)')\n",
    "plt.ylabel('Condición climática')\n",
    "plt.show()"
   ]
  },
  {
   "cell_type": "markdown",
   "metadata": {},
   "source": [
    "De acuerdo con las gráficas es posible apreciar una mayor duración promedio de los viajes hacia el aeropuerto cuando se tienen malas condiciones climáticas, lo cual se verificará con una prueba de hipótesis."
   ]
  },
  {
   "cell_type": "markdown",
   "metadata": {},
   "source": [
    "<div class=\"alert alert-block alert-success\">\n",
    "<b>Comentario del revisor (2da Iteracion)</b> <a class=“tocSkip”></a>\n",
    "\n",
    "Muy buen trabajo revisando y tratando los valores atípicos, estos valores pueden llegar a alterar los resultados de pruebas hipótesis o cálculo de las métricas en tu proyecto\n",
    "</div>"
   ]
  },
  {
   "cell_type": "markdown",
   "metadata": {},
   "source": [
    "### Hipótesis"
   ]
  },
  {
   "cell_type": "markdown",
   "metadata": {},
   "source": [
    "- Cómo se plantean las Hipotesis nula y alternativa?  \n",
    "La Hipótesis alternativa plantea lo que quiero comprobar, en este caso; que hay diferencias en la duración de los viajes hacia el aeropuerto según la condición climática; de modo tal que la Hipótesis nula plantea que no existen diferencias en la duración de los viajes según condición climática"
   ]
  },
  {
   "cell_type": "markdown",
   "metadata": {},
   "source": [
    "* Qué criterio se utilizará para probar la hipótesis?  \n",
    "Se utilizará la prueba t test para poblaciones independientes, con un valor alpha del 5% como el nivel de probabilidad de rechazar \"por error\" una hipótesis que en realidad es verdadera.  \n",
    "Se aplicará el test de Levene para verificar si las varianzas de ambas muestras son similares y con ello determinar el parámetro *equal_var*"
   ]
  },
  {
   "cell_type": "code",
   "execution_count": 24,
   "metadata": {},
   "outputs": [
    {
     "data": {
      "text/plain": [
       "LeveneResult(statistic=0.24647542861629418, pvalue=0.6196707782686355)"
      ]
     },
     "execution_count": 24,
     "metadata": {},
     "output_type": "execute_result"
    }
   ],
   "source": [
    "H0 = \"La duración promedio de los viajes desde el Loop hasta el Aeropuerto Internacional O'Hare NO cambia los sábados con mala condición climática\"\n",
    "H1 = \"La duración promedio de los viajes desde el Loop hasta el Aeropuerto Internacional O'Hare cambia los sábados con mala condición climática\"\n",
    "\n",
    "good_weather = trips_without_outliers.query('weather_conditions == \"Good\"')['duration_seconds']\n",
    "bad_weather = trips_without_outliers.query('weather_conditions == \"Bad\"')['duration_seconds']\n",
    "alpha = 0.5\n",
    "\n",
    "#  significancia Test de Levene: 0.05\n",
    "st.levene(good_weather, bad_weather)"
   ]
  },
  {
   "cell_type": "markdown",
   "metadata": {},
   "source": [
    "Del test de Levene se obtuvo valor p= 0.619 por tanto las varianzas son diferentes; *equal_var* = True"
   ]
  },
  {
   "cell_type": "code",
   "execution_count": 25,
   "metadata": {},
   "outputs": [
    {
     "name": "stdout",
     "output_type": "stream",
     "text": [
      "1.2430038032744411e-13\n",
      "Rechazamos la hipótesis nula, por tanto, la duración promedio de los viajes hacia el aeropuerto si cambia con mala condición climática\n"
     ]
    }
   ],
   "source": [
    "results = st.ttest_ind(good_weather, bad_weather)\n",
    "print(results.pvalue)\n",
    "\n",
    "if results.pvalue < alpha:\n",
    "    print('Rechazamos la hipótesis nula, por tanto, la duración promedio de los viajes hacia el aeropuerto si cambia con mala condición climática')\n",
    "if results.pvalue > alpha:\n",
    "    print('No podemos rechazar la hipótesis nula, por tanto, la duración promedio de los viajes hacia el aeropuerto no cambia con mala condición climática')"
   ]
  },
  {
   "cell_type": "markdown",
   "metadata": {},
   "source": [
    "### Conclusión"
   ]
  },
  {
   "cell_type": "markdown",
   "metadata": {},
   "source": [
    "Al buscar las principales empresas de taxis en Chicago, es notoria la diferencia con la que destaca \"Flash Cab\" con la cantidad de viajes realizados vs las otras compañías, de modo que buscar qué diferencia sus viajes del resto sería un punto relevante para que Zuber prospere como nueva empresa de viajes en Chicago. Así también; tener información respecto a los destinos más solicitados da un inicio para considerar las preferencias de los pasajeros y la disponibilidad de taxis hacia aquellos barrios. \n",
    "Por otro lado; considerar factores externos que pueden influenciar una mayor solicitud de viajes o incluso una mayor duración de los mismos como fue posible ver con estos datos; es algo de gran relevancia a considerar para la empresa; pues se observó que en días de lluvia los viajes duran aún más, lo cual puede impactar en la necesidad de considerar mayor cantidad de taxis para esos días con la finalidad de no perder viajes."
   ]
  },
  {
   "cell_type": "markdown",
   "metadata": {},
   "source": [
    "<div class=\"alert alert-block alert-success\">\n",
    "<b>Comentario del revisor (2da Iteracion)</b> <a class=“tocSkip”></a>\n",
    "\n",
    "Muy buen trabajo Macarena! Aplicaste correctamente la prueba de hipótesis y la analizaste muy bien dejando una conclusión bastante clara.\n",
    "    \n",
    "Entender cómo aplicar e interpretar las pruebas de hipótesis son un paso importante para cuando hagas pruebas AB más adelante, puesto que el resultado y una buena interpretación será la clave para la toma de decisiones en esa prueba.\n",
    "    \n",
    "Saludos!\n",
    "</div>"
   ]
  }
 ],
 "metadata": {
  "ExecuteTimeLog": [
   {
    "duration": 2455,
    "start_time": "2024-10-05T17:33:33.268Z"
   },
   {
    "duration": 22,
    "start_time": "2024-10-05T17:35:45.397Z"
   },
   {
    "duration": 10,
    "start_time": "2024-10-05T17:36:22.323Z"
   },
   {
    "duration": 9,
    "start_time": "2024-10-05T17:36:30.768Z"
   },
   {
    "duration": 212,
    "start_time": "2024-10-05T17:38:25.611Z"
   },
   {
    "duration": 5,
    "start_time": "2024-10-05T17:38:38.799Z"
   },
   {
    "duration": 9,
    "start_time": "2024-10-05T17:39:25.023Z"
   },
   {
    "duration": 8,
    "start_time": "2024-10-05T17:39:42.896Z"
   },
   {
    "duration": 11,
    "start_time": "2024-10-05T17:40:29.956Z"
   },
   {
    "duration": 9,
    "start_time": "2024-10-05T17:40:39.336Z"
   },
   {
    "duration": 8,
    "start_time": "2024-10-05T17:41:06.336Z"
   },
   {
    "duration": 5,
    "start_time": "2024-10-05T17:42:30.016Z"
   },
   {
    "duration": 6,
    "start_time": "2024-10-05T17:45:29.358Z"
   },
   {
    "duration": 10,
    "start_time": "2024-10-05T17:45:56.318Z"
   },
   {
    "duration": 9,
    "start_time": "2024-10-05T17:46:06.696Z"
   },
   {
    "duration": 9,
    "start_time": "2024-10-05T17:47:12.232Z"
   },
   {
    "duration": 5,
    "start_time": "2024-10-05T17:47:47.696Z"
   },
   {
    "duration": 9,
    "start_time": "2024-10-05T17:50:13.537Z"
   },
   {
    "duration": 10,
    "start_time": "2024-10-05T17:51:36.736Z"
   },
   {
    "duration": 11,
    "start_time": "2024-10-05T17:51:51.888Z"
   },
   {
    "duration": 6,
    "start_time": "2024-10-05T17:53:56.996Z"
   },
   {
    "duration": 152,
    "start_time": "2024-10-05T17:55:19.121Z"
   },
   {
    "duration": 7,
    "start_time": "2024-10-05T17:57:30.316Z"
   },
   {
    "duration": 181,
    "start_time": "2024-10-05T17:58:06.136Z"
   },
   {
    "duration": 148,
    "start_time": "2024-10-05T18:03:21.297Z"
   },
   {
    "duration": 82,
    "start_time": "2024-10-05T18:03:57.729Z"
   },
   {
    "duration": 21,
    "start_time": "2024-10-05T18:04:34.716Z"
   },
   {
    "duration": 6,
    "start_time": "2024-10-05T18:04:43.117Z"
   },
   {
    "duration": 73,
    "start_time": "2024-10-05T18:05:15.309Z"
   },
   {
    "duration": 96,
    "start_time": "2024-10-05T18:07:14.996Z"
   },
   {
    "duration": 4,
    "start_time": "2024-10-05T18:08:39.656Z"
   },
   {
    "duration": 8,
    "start_time": "2024-10-05T18:11:15.233Z"
   },
   {
    "duration": 4,
    "start_time": "2024-10-05T18:11:39.800Z"
   },
   {
    "duration": 843,
    "start_time": "2024-10-05T21:00:09.711Z"
   },
   {
    "duration": 13,
    "start_time": "2024-10-05T21:00:10.556Z"
   },
   {
    "duration": 8,
    "start_time": "2024-10-05T21:00:10.570Z"
   },
   {
    "duration": 10,
    "start_time": "2024-10-05T21:00:10.580Z"
   },
   {
    "duration": 6,
    "start_time": "2024-10-05T21:00:10.592Z"
   },
   {
    "duration": 8,
    "start_time": "2024-10-05T21:00:10.600Z"
   },
   {
    "duration": 9,
    "start_time": "2024-10-05T21:00:10.610Z"
   },
   {
    "duration": 4,
    "start_time": "2024-10-05T21:00:10.621Z"
   },
   {
    "duration": 5,
    "start_time": "2024-10-05T21:00:10.627Z"
   },
   {
    "duration": 51,
    "start_time": "2024-10-05T21:00:10.635Z"
   },
   {
    "duration": 8,
    "start_time": "2024-10-05T21:00:10.688Z"
   },
   {
    "duration": 5,
    "start_time": "2024-10-05T21:00:10.698Z"
   },
   {
    "duration": 9,
    "start_time": "2024-10-05T21:00:10.704Z"
   },
   {
    "duration": 9,
    "start_time": "2024-10-05T21:00:10.715Z"
   },
   {
    "duration": 7,
    "start_time": "2024-10-05T21:00:10.725Z"
   },
   {
    "duration": 202,
    "start_time": "2024-10-05T21:00:10.734Z"
   },
   {
    "duration": 7,
    "start_time": "2024-10-05T21:00:10.938Z"
   },
   {
    "duration": 180,
    "start_time": "2024-10-05T21:00:10.947Z"
   },
   {
    "duration": 274,
    "start_time": "2024-10-05T21:00:11.128Z"
   },
   {
    "duration": 0,
    "start_time": "2024-10-05T21:00:11.404Z"
   },
   {
    "duration": 0,
    "start_time": "2024-10-05T21:00:11.405Z"
   },
   {
    "duration": 0,
    "start_time": "2024-10-05T21:00:11.406Z"
   },
   {
    "duration": 0,
    "start_time": "2024-10-05T21:00:11.408Z"
   },
   {
    "duration": 0,
    "start_time": "2024-10-05T21:00:11.409Z"
   },
   {
    "duration": 0,
    "start_time": "2024-10-05T21:00:11.410Z"
   },
   {
    "duration": 15,
    "start_time": "2024-10-05T21:00:17.865Z"
   },
   {
    "duration": 15,
    "start_time": "2024-10-05T21:00:18.983Z"
   },
   {
    "duration": 14,
    "start_time": "2024-10-05T21:00:19.535Z"
   },
   {
    "duration": 15,
    "start_time": "2024-10-05T21:00:19.927Z"
   },
   {
    "duration": 15,
    "start_time": "2024-10-05T21:00:21.946Z"
   },
   {
    "duration": 14,
    "start_time": "2024-10-05T21:00:22.787Z"
   },
   {
    "duration": 161,
    "start_time": "2024-10-06T19:03:50.520Z"
   },
   {
    "duration": 2426,
    "start_time": "2024-10-06T19:03:54.962Z"
   },
   {
    "duration": 18,
    "start_time": "2024-10-06T19:03:57.391Z"
   },
   {
    "duration": 9,
    "start_time": "2024-10-06T19:03:57.411Z"
   },
   {
    "duration": 5,
    "start_time": "2024-10-06T19:03:57.423Z"
   },
   {
    "duration": 7,
    "start_time": "2024-10-06T19:03:57.430Z"
   },
   {
    "duration": 9,
    "start_time": "2024-10-06T19:03:57.438Z"
   },
   {
    "duration": 7,
    "start_time": "2024-10-06T19:03:57.449Z"
   },
   {
    "duration": 4,
    "start_time": "2024-10-06T19:03:57.458Z"
   },
   {
    "duration": 42,
    "start_time": "2024-10-06T19:03:57.463Z"
   },
   {
    "duration": 9,
    "start_time": "2024-10-06T19:03:57.506Z"
   },
   {
    "duration": 8,
    "start_time": "2024-10-06T19:03:57.517Z"
   },
   {
    "duration": 4,
    "start_time": "2024-10-06T19:03:57.527Z"
   },
   {
    "duration": 9,
    "start_time": "2024-10-06T19:03:57.533Z"
   },
   {
    "duration": 8,
    "start_time": "2024-10-06T19:03:57.545Z"
   },
   {
    "duration": 6,
    "start_time": "2024-10-06T19:03:57.555Z"
   },
   {
    "duration": 196,
    "start_time": "2024-10-06T19:03:57.563Z"
   },
   {
    "duration": 7,
    "start_time": "2024-10-06T19:03:57.761Z"
   },
   {
    "duration": 200,
    "start_time": "2024-10-06T19:03:57.769Z"
   },
   {
    "duration": 137,
    "start_time": "2024-10-06T19:03:57.971Z"
   },
   {
    "duration": 112,
    "start_time": "2024-10-06T19:03:58.109Z"
   },
   {
    "duration": 8,
    "start_time": "2024-10-06T19:03:58.223Z"
   },
   {
    "duration": 84,
    "start_time": "2024-10-06T19:03:58.233Z"
   },
   {
    "duration": 101,
    "start_time": "2024-10-06T19:03:58.319Z"
   },
   {
    "duration": 8,
    "start_time": "2024-10-06T19:03:58.422Z"
   },
   {
    "duration": 3,
    "start_time": "2024-10-06T19:03:58.432Z"
   },
   {
    "duration": 5,
    "start_time": "2024-10-06T19:05:52.659Z"
   },
   {
    "duration": 2564,
    "start_time": "2024-10-07T03:19:08.525Z"
   },
   {
    "duration": 21,
    "start_time": "2024-10-07T03:19:11.091Z"
   },
   {
    "duration": 8,
    "start_time": "2024-10-07T03:19:11.114Z"
   },
   {
    "duration": 6,
    "start_time": "2024-10-07T03:19:11.123Z"
   },
   {
    "duration": 16,
    "start_time": "2024-10-07T03:19:11.132Z"
   },
   {
    "duration": 13,
    "start_time": "2024-10-07T03:19:11.150Z"
   },
   {
    "duration": 7,
    "start_time": "2024-10-07T03:19:11.165Z"
   },
   {
    "duration": 4,
    "start_time": "2024-10-07T03:19:11.175Z"
   },
   {
    "duration": 5,
    "start_time": "2024-10-07T03:19:11.181Z"
   },
   {
    "duration": 8,
    "start_time": "2024-10-07T03:19:11.188Z"
   },
   {
    "duration": 7,
    "start_time": "2024-10-07T03:19:11.198Z"
   },
   {
    "duration": 5,
    "start_time": "2024-10-07T03:19:11.243Z"
   },
   {
    "duration": 9,
    "start_time": "2024-10-07T03:19:11.250Z"
   },
   {
    "duration": 9,
    "start_time": "2024-10-07T03:19:11.263Z"
   },
   {
    "duration": 7,
    "start_time": "2024-10-07T03:19:11.273Z"
   },
   {
    "duration": 191,
    "start_time": "2024-10-07T03:19:11.281Z"
   },
   {
    "duration": 7,
    "start_time": "2024-10-07T03:19:11.474Z"
   },
   {
    "duration": 180,
    "start_time": "2024-10-07T03:19:11.483Z"
   },
   {
    "duration": 92,
    "start_time": "2024-10-07T03:19:11.665Z"
   },
   {
    "duration": 115,
    "start_time": "2024-10-07T03:19:11.759Z"
   },
   {
    "duration": 7,
    "start_time": "2024-10-07T03:19:11.876Z"
   },
   {
    "duration": 88,
    "start_time": "2024-10-07T03:19:11.885Z"
   },
   {
    "duration": 104,
    "start_time": "2024-10-07T03:19:11.974Z"
   },
   {
    "duration": 9,
    "start_time": "2024-10-07T03:19:12.080Z"
   },
   {
    "duration": 4,
    "start_time": "2024-10-07T03:19:12.091Z"
   }
  ],
  "kernelspec": {
   "display_name": "Python 3 (ipykernel)",
   "language": "python",
   "name": "python3"
  },
  "language_info": {
   "codemirror_mode": {
    "name": "ipython",
    "version": 3
   },
   "file_extension": ".py",
   "mimetype": "text/x-python",
   "name": "python",
   "nbconvert_exporter": "python",
   "pygments_lexer": "ipython3",
   "version": "3.9.19"
  },
  "toc": {
   "base_numbering": 1,
   "nav_menu": {},
   "number_sections": true,
   "sideBar": true,
   "skip_h1_title": true,
   "title_cell": "Table of Contents",
   "title_sidebar": "Contents",
   "toc_cell": false,
   "toc_position": {},
   "toc_section_display": true,
   "toc_window_display": false
  }
 },
 "nbformat": 4,
 "nbformat_minor": 2
}
